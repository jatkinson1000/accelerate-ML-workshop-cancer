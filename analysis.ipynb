{
 "cells": [
  {
   "cell_type": "code",
   "execution_count": 3,
   "id": "a6566c29-fde6-49aa-9c6a-7af7614ae5ee",
   "metadata": {},
   "outputs": [
    {
     "ename": "SyntaxError",
     "evalue": "invalid syntax (3728272589.py, line 1)",
     "output_type": "error",
     "traceback": [
      "  \u001b[36mCell\u001b[39m\u001b[36m \u001b[39m\u001b[32mIn[3]\u001b[39m\u001b[32m, line 1\u001b[39m\n\u001b[31m    \u001b[39m\u001b[31mimport ../src.dataset as ds\u001b[39m\n           ^\n\u001b[31mSyntaxError\u001b[39m\u001b[31m:\u001b[39m invalid syntax\n"
     ]
    }
   ],
   "source": [
    "import src.dataset as ds\n",
    "from pathlib import Path"
   ]
  },
  {
   "cell_type": "code",
   "execution_count": 7,
   "id": "7c02f554-625e-4b99-9d3c-7d7e46dce4f1",
   "metadata": {},
   "outputs": [],
   "source": [
    "# Specify where we will save the dataset\n",
    "dataset_loc = Path(\"data/\")\n",
    "\n",
    "# Load the dataset from file\n",
    "mydata = ds.CancerDataset(dataset_loc)"
   ]
  },
  {
   "cell_type": "code",
   "execution_count": 1,
   "id": "ec2172da-3e60-49e9-be56-59fadfcddbcd",
   "metadata": {},
   "outputs": [
    {
     "ename": "NameError",
     "evalue": "name 'mydata' is not defined",
     "output_type": "error",
     "traceback": [
      "\u001b[31m---------------------------------------------------------------------------\u001b[39m",
      "\u001b[31mNameError\u001b[39m                                 Traceback (most recent call last)",
      "\u001b[36mCell\u001b[39m\u001b[36m \u001b[39m\u001b[32mIn[1]\u001b[39m\u001b[32m, line 2\u001b[39m\n\u001b[32m      1\u001b[39m \u001b[38;5;66;03m# Look at the data\u001b[39;00m\n\u001b[32m----> \u001b[39m\u001b[32m2\u001b[39m \u001b[43mmydata\u001b[49m.dataset\n",
      "\u001b[31mNameError\u001b[39m: name 'mydata' is not defined"
     ]
    }
   ],
   "source": [
    "# Look at the data\n",
    "mydata.dataset"
   ]
  },
  {
   "cell_type": "code",
   "execution_count": null,
   "id": "bfb96bf4-6f02-4572-9820-848c42f7e621",
   "metadata": {},
   "outputs": [],
   "source": []
  }
 ],
 "metadata": {
  "kernelspec": {
   "display_name": "Python 3 (ipykernel)",
   "language": "python",
   "name": "python3"
  },
  "language_info": {
   "codemirror_mode": {
    "name": "ipython",
    "version": 3
   },
   "file_extension": ".py",
   "mimetype": "text/x-python",
   "name": "python",
   "nbconvert_exporter": "python",
   "pygments_lexer": "ipython3",
   "version": "3.11.11"
  }
 },
 "nbformat": 4,
 "nbformat_minor": 5
}
