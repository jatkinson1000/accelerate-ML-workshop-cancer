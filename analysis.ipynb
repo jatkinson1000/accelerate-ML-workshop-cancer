{
 "cells": [
  {
   "cell_type": "code",
   "execution_count": null,
   "id": "a6566c29-fde6-49aa-9c6a-7af7614ae5ee",
   "metadata": {},
   "outputs": [],
   "source": [
    "import src.dataset as ds\n",
    "from pathlib import Path\n",
    "import numpy as np"
   ]
  },
  {
   "cell_type": "code",
   "execution_count": null,
   "id": "7c02f554-625e-4b99-9d3c-7d7e46dce4f1",
   "metadata": {},
   "outputs": [],
   "source": [
    "# Specify where we will save the dataset\n",
    "dataset_loc = Path(\"data/\")\n",
    "\n",
    "# Load the dataset from file\n",
    "mydata = ds.CancerDataset(dataset_loc)"
   ]
  },
  {
   "cell_type": "code",
   "execution_count": null,
   "id": "ec2172da-3e60-49e9-be56-59fadfcddbcd",
   "metadata": {},
   "outputs": [],
   "source": [
    "# Look at the data\n",
    "df = mydata.dataset"
   ]
  },
  {
   "cell_type": "code",
   "execution_count": null,
   "id": "bfb96bf4-6f02-4572-9820-848c42f7e621",
   "metadata": {},
   "outputs": [],
   "source": [
    "# Step 1: Basic Information\n",
    "print(\"Shape of dataset:\", df)\n",
    "print(\"\\nColumns:\", df.columns.tolist())\n",
    "print(\"\\nData types:\\n\", df.dtypes)\n",
    "print(\"\\nFirst few rows:\\n\", df.head())"
   ]
  },
  {
   "cell_type": "code",
   "execution_count": null,
   "id": "f9969bfb-1888-4131-b834-d1f2a05f4c32",
   "metadata": {},
   "outputs": [],
   "source": [
    "# Step 2: Missing Values Analysis\n",
    "print(\"\\nMissing values:\\n\", df.isnull().sum())\n",
    "print(\"\\nMissing values percentage:\\n\", (df.isnull().sum() / len(df)) * 100)"
   ]
  },
  {
   "cell_type": "code",
   "execution_count": null,
   "id": "d0dad557-3f29-4ab0-806b-c4b60d454af0",
   "metadata": {},
   "outputs": [],
   "source": [
    "# Step 3: Basic Statistics\n",
    "print(\"\\nNumerical columns summary:\\n\", df.describe())\n",
    "print(\"\\nCategorical columns summary:\\n\", df.describe(include=['object']))"
   ]
  },
  {
   "cell_type": "code",
   "execution_count": null,
   "id": "b2144bdf-9d81-4812-8eca-c454c97f2ee5",
   "metadata": {},
   "outputs": [],
   "source": [
    "import matplotlib.pyplot as plt\n",
    "import seaborn as sns\n",
    "\n",
    "for col in df[:5]:\n",
    "    plt.figure(figsize=(10, 6))\n",
    "    if df[col].dtype in ['int64', 'float64']:\n",
    "        sns.histplot(data=df, x=col)\n",
    "    else:\n",
    "        sns.countplot(data=df, x=col)\n",
    "    plt.title(f'Distribution of {col}')\n",
    "    plt.xticks(rotation=45)\n",
    "    plt.show()"
   ]
  },
  {
   "cell_type": "code",
   "execution_count": null,
   "id": "a677cc93-8534-4d2a-b8b7-6d2700ab376a",
   "metadata": {},
   "outputs": [],
   "source": [
    "## Correlation analysis\n",
    "\n",
    "numeric_df = df.select_dtypes(include=[np.number])\n",
    "plt.figure(figsize=(12, 8))\n",
    "sns.heatmap(numeric_df.corr(), annot=True, cmap='coolwarm', center=0)\n",
    "plt.title('Correlation Matrix')\n",
    "plt.show()"
   ]
  },
  {
   "cell_type": "code",
   "execution_count": null,
   "id": "392f6799-881f-47ee-aec9-3a0e464dfbcf",
   "metadata": {},
   "outputs": [],
   "source": []
  },
  {
   "cell_type": "code",
   "execution_count": null,
   "id": "ab4deb86-6b25-4778-afca-0503039c859f",
   "metadata": {},
   "outputs": [],
   "source": []
  },
  {
   "cell_type": "code",
   "execution_count": null,
   "id": "4f5ba2d6-7531-464b-983d-4a506ce133db",
   "metadata": {},
   "outputs": [],
   "source": []
  }
 ],
 "metadata": {
  "kernelspec": {
   "display_name": "Python 3 (ipykernel)",
   "language": "python",
   "name": "python3"
  },
  "language_info": {
   "codemirror_mode": {
    "name": "ipython",
    "version": 3
   },
   "file_extension": ".py",
   "mimetype": "text/x-python",
   "name": "python",
   "nbconvert_exporter": "python",
   "pygments_lexer": "ipython3",
   "version": "3.11.11"
  }
 },
 "nbformat": 4,
 "nbformat_minor": 5
}
